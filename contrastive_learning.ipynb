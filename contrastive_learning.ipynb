{
 "cells": [
  {
   "cell_type": "code",
   "execution_count": 1,
   "metadata": {},
   "outputs": [],
   "source": [
    "%load_ext autoreload\n",
    "%autoreload 2"
   ]
  },
  {
   "cell_type": "code",
   "execution_count": 2,
   "metadata": {},
   "outputs": [],
   "source": [
    "import torch\n",
    "import time\n",
    "\n",
    "import seaborn as sns\n",
    "import numpy as np\n",
    "\n",
    "from torch.utils.data import  DataLoader\n",
    "from torchvision import datasets, transforms\n",
    "\n",
    "from dataset import ContrastiveDataset\n",
    "from optimizer import LARS\n",
    "from loss import NT_Xent\n",
    "from model import ContrastiveLearningModel\n",
    "\n",
    "sns.set_theme()\n",
    "\n",
    "import matplotlib.pyplot as plt\n",
    "%matplotlib inline"
   ]
  },
  {
   "cell_type": "code",
   "execution_count": 3,
   "metadata": {},
   "outputs": [
    {
     "data": {
      "text/plain": [
       "<torch._C.Generator at 0x15102af0d570>"
      ]
     },
     "execution_count": 3,
     "metadata": {},
     "output_type": "execute_result"
    }
   ],
   "source": [
    "seed = 42 \n",
    "np.random.seed(seed)\n",
    "torch.manual_seed(seed)"
   ]
  },
  {
   "cell_type": "code",
   "execution_count": 4,
   "metadata": {},
   "outputs": [],
   "source": [
    "device = torch.device('cuda:0' if torch.cuda.is_available() else 'cpu')"
   ]
  },
  {
   "cell_type": "markdown",
   "metadata": {},
   "source": [
    "## Dataloader for self-supervised case"
   ]
  },
  {
   "cell_type": "code",
   "execution_count": 5,
   "metadata": {},
   "outputs": [
    {
     "name": "stdout",
     "output_type": "stream",
     "text": [
      "Files already downloaded and verified\n",
      "Files already downloaded and verified\n"
     ]
    }
   ],
   "source": [
    "transform = transforms.Compose(\n",
    "    [transforms.ToTensor(), transforms.Normalize((0.5, 0.5, 0.5), (0.5, 0.5, 0.5))]\n",
    ")\n",
    "\n",
    "cifar_train = datasets.CIFAR10(\n",
    "    root=\"./data\", train=True, download=True, transform=transform\n",
    ")\n",
    "cifar_test = datasets.CIFAR10(\n",
    "    root=\"./data\", train=False, download=True, transform=transform\n",
    ")\n",
    "\n",
    "train_img_array = np.array([np.array(image) for image, _ in cifar_train])\n",
    "test_img_array = np.array([np.array(image) for image, _ in cifar_test])"
   ]
  },
  {
   "cell_type": "code",
   "execution_count": 6,
   "metadata": {},
   "outputs": [],
   "source": [
    "train_dataset = ContrastiveDataset(\"train\", train_img_array[:40000])\n",
    "val_dataset = ContrastiveDataset(\"val\", train_img_array[40000:])\n",
    "test_dataset = ContrastiveDataset(\"test\", test_img_array)"
   ]
  },
  {
   "cell_type": "code",
   "execution_count": 7,
   "metadata": {},
   "outputs": [],
   "source": [
    "ssl_batch_size = 200\n",
    "num_workers = 0 # means no sub-processes, needed for debugging\n",
    "train_dataloader = DataLoader(\n",
    "    train_dataset, batch_size=ssl_batch_size, shuffle=True, num_workers=num_workers\n",
    ")\n",
    "val_dataloader = DataLoader(\n",
    "    val_dataset, batch_size=ssl_batch_size, shuffle=False, num_workers=num_workers\n",
    ")\n",
    "test_dataloader = DataLoader(\n",
    "    test_dataset, batch_size=ssl_batch_size, shuffle=False, num_workers=num_workers\n",
    ")"
   ]
  },
  {
   "cell_type": "code",
   "execution_count": 8,
   "metadata": {},
   "outputs": [],
   "source": [
    "model = ContrastiveLearningModel().to(device)\n",
    "optimizer = LARS(\n",
    "    [params for params in model.parameters() if params.requires_grad],\n",
    "    lr=0.2,\n",
    "    weight_decay=1e-6,\n",
    "    exclude_from_weight_decay=[\"batch_normalization\", \"bias\"],\n",
    ")\n",
    "criterion = NT_Xent(batch_size=ssl_batch_size, temperature=0.5)"
   ]
  },
  {
   "cell_type": "code",
   "execution_count": 9,
   "metadata": {},
   "outputs": [
    {
     "name": "stderr",
     "output_type": "stream",
     "text": [
      "/cluster/work/jssaethe/SSL_project/optimizer.py:132: UserWarning: This overload of add_ is deprecated:\n",
      "\tadd_(Number alpha, Tensor other)\n",
      "Consider using one of the following signatures instead:\n",
      "\tadd_(Tensor other, *, Number alpha) (Triggered internally at  ../torch/csrc/utils/python_arg_parser.cpp:1025.)\n",
      "  next_v.mul_(momentum).add_(scaled_lr, grad)\n"
     ]
    },
    {
     "name": "stdout",
     "output_type": "stream",
     "text": [
      "Epoch #1, training loss: 4.97456280708313, validation loss: 4.376198015213013, time: 184.05\n",
      "Epoch #2, training loss: 4.442817897796631, validation loss: 4.183467617034912, time: 186.78\n",
      "Epoch #3, training loss: 4.345142996311187, validation loss: 4.161166410446167, time: 176.69\n",
      "Epoch #4, training loss: 4.304538214206696, validation loss: 4.13193907737732, time: 176.92\n",
      "Epoch #5, training loss: 4.275191602706909, validation loss: 4.109586181640625, time: 176.47\n",
      "Epoch #6, training loss: 4.255799016952515, validation loss: 4.106891975402832, time: 176.79\n",
      "Epoch #7, training loss: 4.24580753326416, validation loss: 4.1015540218353275, time: 176.53\n",
      "Epoch #8, training loss: 4.23561849117279, validation loss: 4.108452081680298, time: 177.94\n",
      "Epoch #9, training loss: 4.227426695823669, validation loss: 4.098489170074463, time: 177.16\n",
      "Epoch #10, training loss: 4.221007130146027, validation loss: 4.092049160003662, time: 175.01\n",
      "Epoch #11, training loss: 4.2136726832389835, validation loss: 4.0888745307922365, time: 175.74\n",
      "Epoch #12, training loss: 4.207433767318726, validation loss: 4.089075374603271, time: 176.21\n",
      "Epoch #13, training loss: 4.201963436603546, validation loss: 4.092022953033447, time: 177.00\n",
      "Epoch #14, training loss: 4.198799676895142, validation loss: 4.084453620910645, time: 176.35\n",
      "Epoch #15, training loss: 4.1931793808937075, validation loss: 4.083379411697388, time: 176.60\n",
      "Epoch #16, training loss: 4.1897385835647585, validation loss: 4.077520380020141, time: 176.73\n",
      "Epoch #17, training loss: 4.186071395874023, validation loss: 4.080934772491455, time: 176.53\n",
      "Epoch #18, training loss: 4.182466516494751, validation loss: 4.082279424667359, time: 178.24\n",
      "Epoch #19, training loss: 4.180502915382386, validation loss: 4.0789166355133055, time: 177.78\n",
      "Epoch #20, training loss: 4.17709016084671, validation loss: 4.075176858901978, time: 176.15\n",
      "Epoch #21, training loss: 4.173126173019409, validation loss: 4.070148525238037, time: 176.18\n",
      "Epoch #22, training loss: 4.172656900882721, validation loss: 4.0715953540802, time: 177.25\n",
      "Epoch #23, training loss: 4.16938178062439, validation loss: 4.07374683380127, time: 182.96\n",
      "Epoch #24, training loss: 4.167469093799591, validation loss: 4.071653890609741, time: 176.70\n",
      "Epoch #25, training loss: 4.165797240734101, validation loss: 4.0697518157958985, time: 176.19\n",
      "Epoch #26, training loss: 4.162243106365204, validation loss: 4.070079374313354, time: 176.15\n",
      "Epoch #27, training loss: 4.161122999191284, validation loss: 4.067809801101685, time: 176.26\n",
      "Epoch #28, training loss: 4.160062143802643, validation loss: 4.070993900299072, time: 176.27\n",
      "Epoch #29, training loss: 4.157809314727783, validation loss: 4.066568679809571, time: 176.25\n",
      "Epoch #30, training loss: 4.1564733910560605, validation loss: 4.065980920791626, time: 176.29\n",
      "Epoch #31, training loss: 4.155765256881714, validation loss: 4.067012977600098, time: 176.30\n",
      "Epoch #32, training loss: 4.153944263458252, validation loss: 4.063640670776367, time: 176.46\n",
      "Epoch #33, training loss: 4.151476030349731, validation loss: 4.064531965255737, time: 176.11\n",
      "Epoch #34, training loss: 4.151445202827453, validation loss: 4.065960054397583, time: 175.99\n",
      "Epoch #35, training loss: 4.149087617397308, validation loss: 4.065738039016724, time: 178.86\n",
      "Epoch #36, training loss: 4.148286459445953, validation loss: 4.068761854171753, time: 182.52\n",
      "Epoch #37, training loss: 4.1473198413848875, validation loss: 4.062392139434815, time: 176.34\n",
      "Epoch #38, training loss: 4.146025562286377, validation loss: 4.063653507232666, time: 176.04\n",
      "Epoch #39, training loss: 4.144530901908874, validation loss: 4.0605872440338135, time: 176.49\n",
      "Epoch #40, training loss: 4.142848060131073, validation loss: 4.061488208770752, time: 176.51\n"
     ]
    }
   ],
   "source": [
    "num_epochs = 40\n",
    "\n",
    "training_losses = []\n",
    "validation_losses = []\n",
    "for epoch in range(num_epochs): \n",
    "\n",
    "  start = time.time()\n",
    "  model.train()\n",
    "  training_loss = 0\n",
    "  for (x_i, x_j) in train_dataloader: \n",
    "    optimizer.zero_grad()\n",
    "    x_i, x_j = x_i.to(device), x_j.to(device)\n",
    "\n",
    "    z_i = model(x_i)\n",
    "    z_j = model(x_j)\n",
    "\n",
    "    loss = criterion(z_i, z_j)\n",
    "    loss.backward()\n",
    "\n",
    "    optimizer.step()\n",
    "    training_loss += loss.item()\n",
    "  \n",
    "  training_loss /= len(train_dataloader)\n",
    "  training_losses.append(training_loss)\n",
    "  \n",
    "  model.eval()\n",
    "  with torch.no_grad(): \n",
    "    validation_loss = 0\n",
    "    for (x_i, x_j) in val_dataloader: \n",
    "      x_i, x_j = x_i.to(device), x_j.to(device)\n",
    "\n",
    "      z_i = model(x_i)\n",
    "      z_j = model(x_j)\n",
    "\n",
    "      loss = criterion(z_i, z_j)\n",
    "      validation_loss += loss.item()\n",
    "\n",
    "    validation_loss /= len(val_dataloader)\n",
    "    validation_losses.append(validation_loss)\n",
    "    \n",
    "    end = time.time()\n",
    "    \n",
    "  print(f\"Epoch #{epoch+1}, training loss: {training_loss}, validation loss: {validation_loss}, time: {end - start:.2f}\")"
   ]
  },
  {
   "cell_type": "code",
   "execution_count": 10,
   "metadata": {},
   "outputs": [
    {
     "data": {
      "image/png": "[encoded data removed]",
      "text/plain": [
       "<Figure size 640x480 with 1 Axes>"
      ]
     },
     "metadata": {},
     "output_type": "display_data"
    }
   ],
   "source": [
    "x = np.linspace(1, len(training_losses), len(training_losses))\n",
    "plt.plot(x, training_losses, label=\"Training\")\n",
    "plt.plot(x, validation_losses, label=\"Valdation\")\n",
    "\n",
    "plt.xlabel(\"Num epochs\")\n",
    "plt.ylabel(\"Loss\")\n",
    "plt.title(\"Contrastive Loss\")\n",
    "plt.legend()\n",
    "\n",
    "plt.show()"
   ]
  },
  {
   "cell_type": "code",
   "execution_count": 11,
   "metadata": {},
   "outputs": [],
   "source": [
    "# Saving the model to file\n",
    "model_path = \"models/encoder.pth\" \n",
    "torch.save(model.encoder, model_path)"
   ]
  }
 ],
 "metadata": {
  "kernelspec": {
   "display_name": "maptr",
   "language": "python",
   "name": "python3"
  },
  "language_info": {
   "codemirror_mode": {
    "name": "ipython",
    "version": 3
   },
   "file_extension": ".py",
   "mimetype": "text/x-python",
   "name": "python",
   "nbconvert_exporter": "python",
   "pygments_lexer": "ipython3",
   "version": "3.8.18"
  },
  "vscode": {
   "interpreter": {
    "hash": "668b7188361740d0a5128326eced1d926ea833d7aff85ed8b6757ad1701c0d0d"
   }
  }
 },
 "nbformat": 4,
 "nbformat_minor": 2
}
