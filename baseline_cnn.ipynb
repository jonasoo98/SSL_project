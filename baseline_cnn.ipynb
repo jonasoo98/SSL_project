{
 "cells": [
  {
   "cell_type": "code",
   "execution_count": 13,
   "metadata": {},
   "outputs": [
    {
     "name": "stdout",
     "output_type": "stream",
     "text": [
      "The autoreload extension is already loaded. To reload it, use:\n",
      "  %reload_ext autoreload\n"
     ]
    }
   ],
   "source": [
    "%load_ext autoreload\n",
    "%autoreload 2"
   ]
  },
  {
   "cell_type": "code",
   "execution_count": 14,
   "metadata": {},
   "outputs": [
    {
     "name": "stdout",
     "output_type": "stream",
     "text": [
      "device: cuda:0\n"
     ]
    }
   ],
   "source": [
    "import os\n",
    "import torch\n",
    "import time\n",
    "\n",
    "import numpy as np\n",
    "import seaborn as sns\n",
    "import torch.nn as nn\n",
    "import torch.optim as optim\n",
    "import torch.nn.functional as F\n",
    "import matplotlib.pyplot as plt\n",
    "\n",
    "\n",
    "from torchvision.utils import make_grid\n",
    "from torch.utils.data import DataLoader, random_split\n",
    "from torchvision import datasets, transforms\n",
    "\n",
    "from model import BaselineModel\n",
    "\n",
    "sns.set()\n",
    "sns.color_palette(\"bright\")\n",
    "\n",
    "device = torch.device(\"cuda:0\" if torch.cuda.is_available() else \"cpu\")\n",
    "print(f\"device: {device}\")"
   ]
  },
  {
   "cell_type": "code",
   "execution_count": 15,
   "metadata": {},
   "outputs": [
    {
     "data": {
      "text/plain": [
       "<torch._C.Generator at 0x152e8ac0ac30>"
      ]
     },
     "execution_count": 15,
     "metadata": {},
     "output_type": "execute_result"
    }
   ],
   "source": [
    "seed = 42 \n",
    "np.random.seed(seed)\n",
    "torch.manual_seed(seed)"
   ]
  },
  {
   "cell_type": "code",
   "execution_count": 16,
   "metadata": {},
   "outputs": [
    {
     "name": "stdout",
     "output_type": "stream",
     "text": [
      "Files already downloaded and verified\n"
     ]
    },
    {
     "name": "stderr",
     "output_type": "stream",
     "text": [
      "/cluster/home/jssaethe/.conda/envs/maptr/lib/python3.8/site-packages/torch/utils/data/dataloader.py:478: UserWarning: This DataLoader will create 2 worker processes in total. Our suggested max number of worker in current system is 1, which is smaller than what this DataLoader is going to create. Please be aware that excessive worker creation might get DataLoader running slow or even freeze, lower the worker number to avoid potential slowness/freeze if necessary.\n",
      "  warnings.warn(_create_warning_msg(\n"
     ]
    },
    {
     "name": "stdout",
     "output_type": "stream",
     "text": [
      "Files already downloaded and verified\n"
     ]
    }
   ],
   "source": [
    "transform = transforms.Compose(\n",
    "    [transforms.ToTensor(), transforms.Normalize((0.5, 0.5, 0.5), (0.5, 0.5, 0.5))]\n",
    ")\n",
    "\n",
    "full_trainset = datasets.CIFAR10(\n",
    "    root=\"./data\", train=True, download=True, transform=transform\n",
    ")\n",
    "\n",
    "batch_size = 100\n",
    "\n",
    "num_train = len(full_trainset)\n",
    "num_valid = int(0.1 * num_train)\n",
    "num_train -= num_valid\n",
    "\n",
    "trainset, validset = random_split(full_trainset, [num_train, num_valid])\n",
    "\n",
    "# Create the DataLoader for training and validation sets\n",
    "trainloader = DataLoader(trainset, batch_size=batch_size, shuffle=True, num_workers=2)\n",
    "validloader = DataLoader(validset, batch_size=batch_size, shuffle=False, num_workers=2)\n",
    "\n",
    "# Download and load the test dataset\n",
    "testset = datasets.CIFAR10(\n",
    "    root=\"./data\", train=False, download=True, transform=transform\n",
    ")\n",
    "testloader = DataLoader(testset, batch_size=batch_size, shuffle=False, num_workers=2)\n",
    "\n",
    "# Classes in CIFAR-10\n",
    "classes = (\n",
    "    \"plane\",\n",
    "    \"car\",\n",
    "    \"bird\",\n",
    "    \"cat\",\n",
    "    \"deer\",\n",
    "    \"dog\",\n",
    "    \"frog\",\n",
    "    \"horse\",\n",
    "    \"ship\",\n",
    "    \"truck\",\n",
    ")"
   ]
  },
  {
   "cell_type": "code",
   "execution_count": 18,
   "metadata": {},
   "outputs": [
    {
     "data": {
      "text/plain": [
       "BaselineModel(\n",
       "  (conv1): Conv2d(3, 6, kernel_size=(5, 5), stride=(1, 1))\n",
       "  (pool): MaxPool2d(kernel_size=2, stride=2, padding=0, dilation=1, ceil_mode=False)\n",
       "  (conv2): Conv2d(6, 16, kernel_size=(5, 5), stride=(1, 1))\n",
       "  (fc1): Linear(in_features=400, out_features=120, bias=True)\n",
       "  (fc2): Linear(in_features=120, out_features=84, bias=True)\n",
       "  (fc3): Linear(in_features=84, out_features=10, bias=True)\n",
       ")"
      ]
     },
     "execution_count": 18,
     "metadata": {},
     "output_type": "execute_result"
    }
   ],
   "source": [
    "net = BaselineModel(num_channels=3)\n",
    "net.to(device)"
   ]
  },
  {
   "cell_type": "code",
   "execution_count": 19,
   "metadata": {},
   "outputs": [],
   "source": [
    "criterion = nn.CrossEntropyLoss()\n",
    "optimizer = optim.SGD(net.parameters(), lr=0.001, momentum=0.9)"
   ]
  },
  {
   "cell_type": "code",
   "execution_count": 20,
   "metadata": {},
   "outputs": [
    {
     "name": "stdout",
     "output_type": "stream",
     "text": [
      "Epoch: 1, training_loss: 2.301168359120687, validation_loss: 2.2965750741958617, time: 12.73\n",
      "Epoch: 2, training_loss: 2.274173398547702, validation_loss: 2.2172620725631713, time: 16.38\n",
      "Epoch: 3, training_loss: 2.0962623365720114, validation_loss: 2.029443571567535, time: 12.83\n",
      "Epoch: 4, training_loss: 1.9701036741998461, validation_loss: 1.938299994468689, time: 14.22\n",
      "Epoch: 5, training_loss: 1.8927873918745253, validation_loss: 1.8690851306915284, time: 17.36\n",
      "Epoch: 6, training_loss: 1.813412476380666, validation_loss: 1.7828548598289489, time: 13.64\n",
      "Epoch: 7, training_loss: 1.7160393116209243, validation_loss: 1.6683937096595765, time: 14.64\n",
      "Epoch: 8, training_loss: 1.6221763682365418, validation_loss: 1.6127776384353638, time: 15.43\n",
      "Epoch: 9, training_loss: 1.5660986206266616, validation_loss: 1.5669915461540223, time: 15.32\n",
      "Epoch: 10, training_loss: 1.5235660277472602, validation_loss: 1.5300349283218384, time: 13.47\n",
      "Epoch: 11, training_loss: 1.4884485297732883, validation_loss: 1.4903246355056763, time: 14.42\n",
      "Epoch: 12, training_loss: 1.4525140351719326, validation_loss: 1.4680525326728822, time: 13.10\n",
      "Epoch: 13, training_loss: 1.4227970610724554, validation_loss: 1.439098575115204, time: 12.78\n",
      "Epoch: 14, training_loss: 1.3898905682563782, validation_loss: 1.414801139831543, time: 12.09\n",
      "Epoch: 15, training_loss: 1.3618358935250177, validation_loss: 1.383558440208435, time: 12.08\n",
      "Epoch: 16, training_loss: 1.336582787566715, validation_loss: 1.3571524310112, time: 12.02\n",
      "Epoch: 17, training_loss: 1.309795236852434, validation_loss: 1.3308941698074341, time: 12.05\n",
      "Epoch: 18, training_loss: 1.2912243880165948, validation_loss: 1.3132406890392303, time: 12.05\n",
      "Epoch: 19, training_loss: 1.2680065751075744, validation_loss: 1.2933582055568695, time: 12.08\n",
      "Epoch: 20, training_loss: 1.2486421155929566, validation_loss: 1.301938065290451, time: 12.04\n",
      "Epoch: 21, training_loss: 1.2260133671760558, validation_loss: 1.2579719829559326, time: 12.38\n",
      "Epoch: 22, training_loss: 1.2124914565351275, validation_loss: 1.240545152425766, time: 12.12\n",
      "Epoch: 23, training_loss: 1.194294695324368, validation_loss: 1.2371015226840973, time: 12.33\n",
      "Epoch: 24, training_loss: 1.176709699763192, validation_loss: 1.2325204753875731, time: 12.34\n",
      "Epoch: 25, training_loss: 1.1599222421646118, validation_loss: 1.2095955872535706, time: 12.29\n",
      "Epoch: 26, training_loss: 1.141404786242379, validation_loss: 1.208875629901886, time: 12.21\n",
      "Epoch: 27, training_loss: 1.1308688198195564, validation_loss: 1.1910564815998077, time: 12.32\n",
      "Epoch: 28, training_loss: 1.1182964271969265, validation_loss: 1.1905667638778688, time: 12.34\n",
      "Epoch: 29, training_loss: 1.1029022439320881, validation_loss: 1.1610944592952728, time: 12.33\n",
      "Epoch: 30, training_loss: 1.0882579220665827, validation_loss: 1.174351348876953, time: 12.27\n"
     ]
    }
   ],
   "source": [
    "num_epochs = 30\n",
    "training_losses = []\n",
    "validation_losses = []\n",
    "\n",
    "for epoch in range(num_epochs): \n",
    "    start = time.time()\n",
    "    net.train()\n",
    "    training_loss = 0.0\n",
    "    for (inputs, labels) in trainloader:\n",
    "        inputs, labels = inputs.to(device), labels.to(device)\n",
    "\n",
    "        optimizer.zero_grad()\n",
    "\n",
    "        outputs = net(inputs)\n",
    "        loss = criterion(outputs, labels)\n",
    "        loss.backward()\n",
    "        optimizer.step()\n",
    "\n",
    "\n",
    "        training_loss += loss.item()\n",
    "    training_loss /= len(trainloader)\n",
    "    training_losses.append(training_loss)\n",
    "\n",
    "    # Validation\n",
    "    net.eval()\n",
    "    validation_loss = 0\n",
    "    with torch.no_grad(): \n",
    "        for (inputs, labels) in validloader: \n",
    "            inputs, labels = inputs.to(device), labels.to(device)\n",
    "            outputs = net(inputs)\n",
    "            loss = criterion(outputs, labels)\n",
    "            validation_loss += loss.item()\n",
    "    \n",
    "    validation_loss /= len(validloader)\n",
    "    validation_losses.append(validation_loss)\n",
    "\n",
    "    end = time.time()\n",
    "    \n",
    "    print(f\"Epoch: {epoch+1}, training_loss: {training_loss}, validation_loss: {validation_loss}, time: {end-start:.2f}\")    "
   ]
  },
  {
   "cell_type": "code",
   "execution_count": 21,
   "metadata": {},
   "outputs": [
    {
     "data": {
      "image/png": "[encoded data removed]",
      "text/plain": [
       "<Figure size 640x480 with 1 Axes>"
      ]
     },
     "metadata": {},
     "output_type": "display_data"
    }
   ],
   "source": [
    "x = np.linspace(1, len(training_losses), len(training_losses))\n",
    "plt.plot(x, training_losses, label=\"Training\")\n",
    "plt.plot(x, validation_losses, label=\"Validation\")\n",
    "plt.xlabel(\"Num epochs\")\n",
    "plt.ylabel(\"Loss\")\n",
    "plt.title(\"Baseline Loss\")\n",
    "plt.legend()\n",
    "\n",
    "plt.show()"
   ]
  },
  {
   "cell_type": "code",
   "execution_count": 23,
   "metadata": {},
   "outputs": [
    {
     "name": "stderr",
     "output_type": "stream",
     "text": [
      "/cluster/home/jssaethe/.conda/envs/maptr/lib/python3.8/site-packages/torch/utils/data/dataloader.py:478: UserWarning: This DataLoader will create 2 worker processes in total. Our suggested max number of worker in current system is 1, which is smaller than what this DataLoader is going to create. Please be aware that excessive worker creation might get DataLoader running slow or even freeze, lower the worker number to avoid potential slowness/freeze if necessary.\n",
      "  warnings.warn(_create_warning_msg(\n"
     ]
    },
    {
     "name": "stdout",
     "output_type": "stream",
     "text": [
      "Accuracy of the network on the 10000 test images: 58 %\n"
     ]
    }
   ],
   "source": [
    "correct = 0\n",
    "total = 0\n",
    "\n",
    "with torch.no_grad():\n",
    "    for (images, labels) in testloader:\n",
    "        images, labels = images.to(device), labels.to(device)\n",
    "        outputs = net(images)\n",
    "        _, predicted = torch.max(outputs.data, 1)\n",
    "        total += labels.size(0)\n",
    "        correct += (predicted == labels).sum().item()\n",
    "\n",
    "print(f'Accuracy of the network on the 10000 test images: {100 * correct // total} %')"
   ]
  }
 ],
 "metadata": {
  "kernelspec": {
   "display_name": "maptr",
   "language": "python",
   "name": "python3"
  },
  "language_info": {
   "codemirror_mode": {
    "name": "ipython",
    "version": 3
   },
   "file_extension": ".py",
   "mimetype": "text/x-python",
   "name": "python",
   "nbconvert_exporter": "python",
   "pygments_lexer": "ipython3",
   "version": "3.8.18 (default, Sep 11 2023, 13:40:15) \n[GCC 11.2.0]"
  },
  "vscode": {
   "interpreter": {
    "hash": "668b7188361740d0a5128326eced1d926ea833d7aff85ed8b6757ad1701c0d0d"
   }
  }
 },
 "nbformat": 4,
 "nbformat_minor": 2
}
