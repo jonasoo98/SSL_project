{
 "cells": [
  {
   "cell_type": "code",
   "execution_count": 1,
   "metadata": {},
   "outputs": [],
   "source": [
    "%load_ext autoreload\n",
    "%autoreload 2"
   ]
  },
  {
   "cell_type": "code",
   "execution_count": 2,
   "metadata": {},
   "outputs": [
    {
     "name": "stdout",
     "output_type": "stream",
     "text": [
      "device: cpu\n"
     ]
    }
   ],
   "source": [
    "import os\n",
    "import torch\n",
    "import time\n",
    "\n",
    "import numpy as np\n",
    "import seaborn as sns\n",
    "import torch.nn as nn\n",
    "import torch.optim as optim\n",
    "import torch.nn.functional as F\n",
    "import matplotlib.pyplot as plt\n",
    "\n",
    "\n",
    "from torchvision.utils import make_grid\n",
    "from torch.utils.data import DataLoader, random_split\n",
    "from torchvision import datasets, transforms\n",
    "\n",
    "from model import BaselineModel_linear as BaselineModel\n",
    "\n",
    "sns.set()\n",
    "sns.color_palette(\"bright\")\n",
    "\n",
    "device = torch.device(\"cuda:0\" if torch.cuda.is_available() else \"cpu\")\n",
    "print(f\"device: {device}\")"
   ]
  },
  {
   "cell_type": "code",
   "execution_count": 3,
   "metadata": {},
   "outputs": [
    {
     "data": {
      "text/plain": [
       "<torch._C.Generator at 0x7ff27891d850>"
      ]
     },
     "execution_count": 3,
     "metadata": {},
     "output_type": "execute_result"
    }
   ],
   "source": [
    "seed = 42 \n",
    "np.random.seed(seed)\n",
    "torch.manual_seed(seed)"
   ]
  },
  {
   "cell_type": "code",
   "execution_count": 4,
   "metadata": {},
   "outputs": [
    {
     "name": "stdout",
     "output_type": "stream",
     "text": [
      "Files already downloaded and verified\n",
      "Files already downloaded and verified\n"
     ]
    }
   ],
   "source": [
    "transform = transforms.Compose(\n",
    "    [transforms.ToTensor(), transforms.Normalize((0.5, 0.5, 0.5), (0.5, 0.5, 0.5))]\n",
    ")\n",
    "\n",
    "full_trainset = datasets.CIFAR10(\n",
    "    root=\"./data\", train=True, download=True, transform=transform\n",
    ")\n",
    "\n",
    "batch_size = 100\n",
    "\n",
    "num_train = len(full_trainset)\n",
    "num_valid = int(0.1 * num_train)\n",
    "num_train -= num_valid\n",
    "\n",
    "trainset, validset = random_split(full_trainset, [num_train, num_valid])\n",
    "\n",
    "# Create the DataLoader for training and validation sets\n",
    "trainloader = DataLoader(trainset, batch_size=batch_size, shuffle=True, num_workers=2)\n",
    "validloader = DataLoader(validset, batch_size=batch_size, shuffle=False, num_workers=2)\n",
    "\n",
    "# Download and load the test dataset\n",
    "testset = datasets.CIFAR10(\n",
    "    root=\"./data\", train=False, download=True, transform=transform\n",
    ")\n",
    "testloader = DataLoader(testset, batch_size=batch_size, shuffle=False, num_workers=2)\n",
    "\n",
    "# Classes in CIFAR-10\n",
    "classes = (\n",
    "    \"plane\",\n",
    "    \"car\",\n",
    "    \"bird\",\n",
    "    \"cat\",\n",
    "    \"deer\",\n",
    "    \"dog\",\n",
    "    \"frog\",\n",
    "    \"horse\",\n",
    "    \"ship\",\n",
    "    \"truck\",\n",
    ")"
   ]
  },
  {
   "cell_type": "code",
   "execution_count": 6,
   "metadata": {},
   "outputs": [
    {
     "data": {
      "text/plain": [
       "BaselineModel_linear(\n",
       "  (fc1): Linear(in_features=3072, out_features=10, bias=True)\n",
       ")"
      ]
     },
     "execution_count": 6,
     "metadata": {},
     "output_type": "execute_result"
    }
   ],
   "source": [
    "net = BaselineModel(3, 32, 32)\n",
    "net.to(device)"
   ]
  },
  {
   "cell_type": "code",
   "execution_count": 7,
   "metadata": {},
   "outputs": [],
   "source": [
    "criterion = nn.CrossEntropyLoss()\n",
    "optimizer = optim.SGD(net.parameters(), lr=0.001, momentum=0.9)"
   ]
  },
  {
   "cell_type": "code",
   "execution_count": 9,
   "metadata": {},
   "outputs": [
    {
     "name": "stdout",
     "output_type": "stream",
     "text": [
      "Epoch: 1, training_loss: 1.772069174978468, validation_loss: 1.7659909582138063, time: 38.09\n",
      "Epoch: 2, training_loss: 1.7440282450781928, validation_loss: 1.7527365326881408, time: 36.95\n",
      "Epoch: 3, training_loss: 1.7249942673577203, validation_loss: 1.7448213839530944, time: 37.07\n",
      "Epoch: 4, training_loss: 1.7136776985062494, validation_loss: 1.738380742073059, time: 36.41\n",
      "Epoch: 5, training_loss: 1.702656921810574, validation_loss: 1.738036904335022, time: 37.55\n",
      "Epoch: 6, training_loss: 1.6949371136559381, validation_loss: 1.7284742569923401, time: 36.57\n",
      "Epoch: 7, training_loss: 1.6883386188083225, validation_loss: 1.727040979862213, time: 38.03\n",
      "Epoch: 8, training_loss: 1.6821096155378554, validation_loss: 1.7227913284301757, time: 40.09\n",
      "Epoch: 9, training_loss: 1.6778645708825852, validation_loss: 1.7224009108543397, time: 37.66\n",
      "Epoch: 10, training_loss: 1.673162484963735, validation_loss: 1.719599690437317, time: 37.29\n"
     ]
    }
   ],
   "source": [
    "num_epochs = 30\n",
    "training_losses = []\n",
    "validation_losses = []\n",
    "\n",
    "for epoch in range(num_epochs): \n",
    "    start = time.time()\n",
    "    net.train()\n",
    "    training_loss = 0.0\n",
    "    for (inputs, labels) in trainloader:\n",
    "        inputs, labels = inputs.to(device), labels.to(device)\n",
    "\n",
    "        optimizer.zero_grad()\n",
    "\n",
    "        outputs = net(inputs)\n",
    "        loss = criterion(outputs, labels)\n",
    "        loss.backward()\n",
    "        optimizer.step()\n",
    "\n",
    "        training_loss += loss.item()\n",
    "    training_loss /= len(trainloader)\n",
    "    training_losses.append(training_loss)\n",
    "\n",
    "    # Validation\n",
    "    net.eval()\n",
    "    validation_loss = 0\n",
    "    with torch.no_grad(): \n",
    "        for (inputs, labels) in validloader: \n",
    "            inputs, labels = inputs.to(device), labels.to(device)\n",
    "            outputs = net(inputs)\n",
    "            loss = criterion(outputs, labels)\n",
    "            validation_loss += loss.item()\n",
    "    \n",
    "    validation_loss /= len(validloader)\n",
    "    validation_losses.append(validation_loss)\n",
    "\n",
    "    end = time.time()\n",
    "    \n",
    "    print(f\"Epoch: {epoch+1}, training_loss: {training_loss}, validation_loss: {validation_loss}, time: {end-start:.2f}\")    "
   ]
  },
  {
   "cell_type": "code",
   "execution_count": 10,
   "metadata": {},
   "outputs": [
    {
     "data": {
      "image/png": "[encoded data removed]",
      "text/plain": [
       "<Figure size 640x480 with 1 Axes>"
      ]
     },
     "metadata": {},
     "output_type": "display_data"
    }
   ],
   "source": [
    "x = np.linspace(1, len(training_losses), len(training_losses))\n",
    "plt.plot(x, training_losses, label=\"Training\")\n",
    "plt.plot(x, validation_losses, label=\"Validation\")\n",
    "plt.xlabel(\"Num epochs\")\n",
    "plt.ylabel(\"Loss\")\n",
    "plt.title(\"Baseline Loss\")\n",
    "plt.legend()\n",
    "\n",
    "plt.show()"
   ]
  },
  {
   "cell_type": "code",
   "execution_count": 12,
   "metadata": {},
   "outputs": [
    {
     "name": "stdout",
     "output_type": "stream",
     "text": [
      "Accuracy of the network on the 10000 test images: 41 %\n"
     ]
    }
   ],
   "source": [
    "correct = 0\n",
    "total = 0\n",
    "\n",
    "with torch.no_grad():\n",
    "    for (images, labels) in testloader:\n",
    "        images, labels = images.to(device), labels.to(device)\n",
    "        outputs = net(images)\n",
    "        _, predicted = torch.max(outputs.data, 1)\n",
    "        total += labels.size(0)\n",
    "        correct += (predicted == labels).sum().item()\n",
    "\n",
    "print(f'Accuracy of the network on the 10000 test images: {100 * correct // total} %')"
   ]
  }
 ],
 "metadata": {
  "kernelspec": {
   "display_name": "maptr",
   "language": "python",
   "name": "python3"
  },
  "language_info": {
   "codemirror_mode": {
    "name": "ipython",
    "version": 3
   },
   "file_extension": ".py",
   "mimetype": "text/x-python",
   "name": "python",
   "nbconvert_exporter": "python",
   "pygments_lexer": "ipython3",
   "version": "3.8.18 (default, Sep 11 2023, 13:40:15) \n[GCC 11.2.0]"
  },
  "vscode": {
   "interpreter": {
    "hash": "668b7188361740d0a5128326eced1d926ea833d7aff85ed8b6757ad1701c0d0d"
   }
  }
 },
 "nbformat": 4,
 "nbformat_minor": 2
}
